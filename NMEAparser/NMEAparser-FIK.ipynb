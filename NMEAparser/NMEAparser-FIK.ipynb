{
 "cells": [
  {
   "cell_type": "markdown",
   "metadata": {},
   "source": [
    "# NMEA 0183 Data Parser with Python Pandas"
   ]
  },
  {
   "cell_type": "code",
   "execution_count": 1,
   "metadata": {
    "collapsed": false
   },
   "outputs": [],
   "source": [
    "import pandas as pd\n",
    "import numpy as np\n",
    "from datetime import datetime, timedelta\n",
    "from IPython.display import Image as ImageDisp\n",
    "from pandas import DataFrame\n",
    "import string\n",
    "import os\n",
    "import matplotlib.pyplot as plt"
   ]
  },
  {
   "cell_type": "code",
   "execution_count": 2,
   "metadata": {
    "collapsed": false
   },
   "outputs": [
    {
     "name": "stdout",
     "output_type": "stream",
     "text": [
      "Populating the interactive namespace from numpy and matplotlib\n"
     ]
    }
   ],
   "source": [
    "%pylab inline --no-import-all\n",
    "#%matplotlib notebook\n",
    "%matplotlib qt"
   ]
  },
  {
   "cell_type": "markdown",
   "metadata": {},
   "source": [
    "## Read Logfile"
   ]
  },
  {
   "cell_type": "code",
   "execution_count": 3,
   "metadata": {
    "collapsed": false
   },
   "outputs": [],
   "source": [
    "fto = '../data/data-radiomodem/LOG00237.TXT' #  File to Open\n",
    "l=[]\n",
    "l.extend(range(0,20))\n",
    "df = pd.read_table(fto, sep=',', header=None, names=l, comment='*')\n",
    "df.drop(df[df[0]=='$GPTXT'].index, inplace=True) # Remove unused sentences\n",
    "df.drop(df[df[0]=='$GPRMC'].index, inplace=True)\n",
    "df.drop(df[df[0]=='$GPVTG'].index, inplace=True)\n",
    "df.drop(df[df[0]=='$GPGLL'].index, inplace=True)\n",
    "df.drop(df[df[0]=='$GPGSA'].index, inplace=True)\n",
    "\n",
    "# Convert strings to numbers\n",
    "df = df.apply(pd.to_numeric, errors='ignore')"
   ]
  },
  {
   "cell_type": "markdown",
   "metadata": {},
   "source": [
    "## Concatenate GGA and GSV lines to one table"
   ]
  },
  {
   "cell_type": "code",
   "execution_count": 4,
   "metadata": {
    "collapsed": false
   },
   "outputs": [],
   "source": [
    "df1 = df.loc[df[0]=='$GPGGA'] # Parse GGA sentences\n",
    "df2 = df.loc[df[2]==1]   # Parse GSV sentences\n",
    "df3 = df.loc[df[2]==2]\n",
    "df4 = df.loc[df[2]==3]\n",
    "df1 = df1.reset_index()\n",
    "df2 = df2.reset_index()\n",
    "df3 = df3.reset_index()\n",
    "df4 = df4.reset_index()\n",
    "df5 = pd.concat([df1,df2,df3,df4], axis=1,  ignore_index=True)\n",
    "# Convert NMEA time to pandas time\n",
    "df5[2] = pd.to_datetime(df5[2], format='%H%M%S.%f').dt.time\n",
    "#df5=df5.rename(columns = {2:'time'})#"
   ]
  },
  {
   "cell_type": "markdown",
   "metadata": {},
   "source": [
    "## Filter minimal elevation"
   ]
  },
  {
   "cell_type": "code",
   "execution_count": 55,
   "metadata": {
    "collapsed": false
   },
   "outputs": [
    {
     "data": {
      "text/html": [
       "<div>\n",
       "<table border=\"1\" class=\"dataframe\">\n",
       "  <thead>\n",
       "    <tr style=\"text-align: right;\">\n",
       "      <th></th>\n",
       "      <th>0</th>\n",
       "      <th>1</th>\n",
       "      <th>2</th>\n",
       "      <th>3</th>\n",
       "      <th>4</th>\n",
       "      <th>5</th>\n",
       "      <th>6</th>\n",
       "      <th>7</th>\n",
       "      <th>8</th>\n",
       "      <th>9</th>\n",
       "      <th>...</th>\n",
       "      <th>75</th>\n",
       "      <th>76</th>\n",
       "      <th>77</th>\n",
       "      <th>78</th>\n",
       "      <th>79</th>\n",
       "      <th>80</th>\n",
       "      <th>81</th>\n",
       "      <th>82</th>\n",
       "      <th>83</th>\n",
       "      <th>avgsnr</th>\n",
       "    </tr>\n",
       "  </thead>\n",
       "  <tbody>\n",
       "  </tbody>\n",
       "</table>\n",
       "<p>0 rows × 85 columns</p>\n",
       "</div>"
      ],
      "text/plain": [
       "Empty DataFrame\n",
       "Columns: [0, 1, 2, 3, 4, 5, 6, 7, 8, 9, 10, 11, 12, 13, 14, 15, 16, 17, 18, 19, 20, 21, 22, 23, 24, 25, 26, 27, 28, 29, 30, 31, 32, 33, 34, 35, 36, 37, 38, 39, 40, 41, 42, 43, 44, 45, 46, 47, 48, 49, 50, 51, 52, 53, 54, 55, 56, 57, 58, 59, 60, 61, 62, 63, 64, 65, 66, 67, 68, 69, 70, 71, 72, 73, 74, 75, 76, 77, 78, 79, 80, 81, 82, 83, avgsnr]\n",
       "Index: []\n",
       "\n",
       "[0 rows x 85 columns]"
      ]
     },
     "execution_count": 55,
     "metadata": {},
     "output_type": "execute_result"
    }
   ],
   "source": [
    "MINELEV = 20\n",
    "#df5[29][df5[27]<MINELEV] = 0\n",
    "#df['FirstName'][df.ID == 103] = \"Matt\"\n",
    "df5[df5[27] < MINELEV]"
   ]
  },
  {
   "cell_type": "markdown",
   "metadata": {},
   "source": [
    "## Calculate average SNR"
   ]
  },
  {
   "cell_type": "code",
   "execution_count": 5,
   "metadata": {
    "collapsed": false
   },
   "outputs": [],
   "source": [
    "df5['avgsnr'] = df5[range(29,42,4) + range(50,63,4) + range(71,84,4)].mean(axis=1)\n",
    "#df5.ix[10][22:]\n"
   ]
  },
  {
   "cell_type": "markdown",
   "metadata": {},
   "source": [
    "## Plot SNR"
   ]
  },
  {
   "cell_type": "code",
   "execution_count": 7,
   "metadata": {
    "collapsed": false,
    "scrolled": true
   },
   "outputs": [
    {
     "data": {
      "text/plain": [
       "<matplotlib.text.Text at 0x7fb717286050>"
      ]
     },
     "execution_count": 7,
     "metadata": {},
     "output_type": "execute_result"
    }
   ],
   "source": [
    "matplotlib.rcParams.update({'font.size': 22})\n",
    "\n",
    "\n",
    "df5[:17000].plot(x=2,y='avgsnr',figsize=(12,5),xticks=['09:30:00','10:00:00','10:30:00','11:00:00','11:30:00','12:00:00','12:30:00','13:00:00','13:30:00','14:00:00'])\n",
    "plt.grid(b=True, which='major', color='grey', linestyle='--')\n",
    "#plt.grid(b=True, which='minor', color='grey', linestyle='-')\n",
    "plt.xlabel('UT')\n",
    "plt.ylabel('SNR [dB]')"
   ]
  },
  {
   "cell_type": "code",
   "execution_count": 32,
   "metadata": {
    "collapsed": false
   },
   "outputs": [
    {
     "name": "stdout",
     "output_type": "stream",
     "text": [
      "   0  1  2  3  4\n",
      "0  1  1  1  2  2\n",
      "1  1  2  3  4  5\n",
      "2  1  2  3  3  5\n",
      "1    15\n",
      "2    14\n",
      "dtype: int64\n",
      "1    9\n",
      "2    8\n",
      "dtype: int64\n",
      "2\n"
     ]
    }
   ],
   "source": [
    "df = pd.DataFrame([[1,1,1,2,2],[1,2,3,4,5],[1,2,3,3,5]])\n",
    "print df\n",
    "print df[df[1]==2].sum(axis=1)\n",
    "print df[df[1]==2][[3,4]].sum(axis=1)\n",
    "print df[df[1]==2].count()[3]\n"
   ]
  },
  {
   "cell_type": "code",
   "execution_count": null,
   "metadata": {
    "collapsed": true
   },
   "outputs": [],
   "source": []
  }
 ],
 "metadata": {
  "kernelspec": {
   "display_name": "Python 2",
   "language": "python",
   "name": "python2"
  },
  "language_info": {
   "codemirror_mode": {
    "name": "ipython",
    "version": 2
   },
   "file_extension": ".py",
   "mimetype": "text/x-python",
   "name": "python",
   "nbconvert_exporter": "python",
   "pygments_lexer": "ipython2",
   "version": "2.7.12+"
  }
 },
 "nbformat": 4,
 "nbformat_minor": 0
}
